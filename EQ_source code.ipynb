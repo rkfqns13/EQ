{
 "cells": [
  {
   "cell_type": "code",
   "execution_count": null,
   "metadata": {},
   "outputs": [],
   "source": [
    "from qiskit import IBMQ\n",
    "IBMQ.save_account('PRIVATE',\n",
    "                     overwrite=True)\n",
    "provider = IBMQ.load_account()"
   ]
  },
  {
   "cell_type": "code",
   "execution_count": null,
   "metadata": {},
   "outputs": [],
   "source": [
    "import matplotlib.pyplot as plt\n",
    "import matplotlib.axes as axes\n",
    "%matplotlib inline\n",
    "import numpy as np\n",
    "\n",
    "from qiskit import BasicAer\n",
    "from qiskit.tools.visualization import plot_histogram\n",
    "from qiskit.aqua.algorithms import VQE, ExactEigensolver\n",
    "from qiskit.aqua.components.optimizers import SPSA\n",
    "from qiskit.aqua import QuantumInstance\n",
    "\n",
    "from qiskit.quantum_info import Pauli\n",
    "from qiskit.aqua.operators import WeightedPauliOperator\n",
    "from collections import OrderedDict\n",
    "import math"
   ]
  },
  {
   "cell_type": "code",
   "execution_count": null,
   "metadata": {},
   "outputs": [],
   "source": [
    "def get_knapsack_operator(values, weights, max_weight):\n",
    "\n",
    "    y_size = int(math.log(max_weight, 2)) + 1\n",
    "    n = len(values)\n",
    "    num_values = n + y_size\n",
    "    pauli_list = []\n",
    "    shift = 0\n",
    "\n",
    "    for i in range(n):\n",
    "        coefficient = weights[i] * values[i]\n",
    "\n",
    "        xp = np.zeros(num_values, dtype=np.bool)\n",
    "        zp = np.zeros(num_values, dtype=np.bool)\n",
    "        zp[i] = not zp[i]\n",
    "        pauli_list.append([coefficient, Pauli(zp, xp)])\n",
    "        shift -= coefficient\n",
    "\n",
    "    return WeightedPauliOperator(paulis=pauli_list), shift"
   ]
  },
  {
   "cell_type": "code",
   "execution_count": null,
   "metadata": {},
   "outputs": [],
   "source": [
    "values = [120, 54, 28, 49]\n",
    "weights = [13, 6, 15, 9]\n",
    "w_max = 32\n",
    "\n",
    "qubitOp, offset = get_knapsack_operator(values, weights, w_max)"
   ]
  },
  {
   "cell_type": "code",
   "execution_count": null,
   "metadata": {},
   "outputs": [],
   "source": [
    "from qiskit.circuit.library import TwoLocal\n",
    "\n",
    "seed = 10000\n",
    "\n",
    "spsa = SPSA(max_trials=100)\n",
    "ansatz = TwoLocal(rotation_blocks='ry', entanglement_blocks='cz')\n",
    "vqe = VQE(qubitOp, ansatz, spsa)\n",
    "\n",
    "backend = BasicAer.get_backend('qasm_simulator')\n",
    "quantum_instance = QuantumInstance(backend, shots=100, seed_simulator=seed, seed_transpiler=seed)\n",
    "\n",
    "result_shots = vqe.run(quantum_instance)\n",
    "\n",
    "most_lightly_shots = result_shots['eigvecs'][0]\n",
    "t = []\n",
    "for k, v in most_lightly_shots.items():\n",
    "    t.append((k,v))"
   ]
  },
  {
   "cell_type": "code",
   "execution_count": null,
   "metadata": {},
   "outputs": [],
   "source": [
    "maxcount=0\n",
    "for i in range(len(t)):\n",
    "    a = t[i][1]\n",
    "    if maxcount<a:\n",
    "        maxcount=a\n",
    "        \n",
    "for i in range(len(t)):\n",
    "    if t[i][1] == maxcount:\n",
    "        shot=t[i][0]\n",
    "        \n",
    "print(shot[:len(values)])"
   ]
  },
  {
   "cell_type": "code",
   "execution_count": null,
   "metadata": {},
   "outputs": [],
   "source": [
    "ansatz.draw('mpl', scale=0.5)"
   ]
  },
  {
   "cell_type": "code",
   "execution_count": null,
   "metadata": {},
   "outputs": [],
   "source": []
  },
  {
   "cell_type": "code",
   "execution_count": null,
   "metadata": {},
   "outputs": [],
   "source": [
    "import networkx as nx\n",
    "from matplotlib import cm\n",
    "from matplotlib.ticker import LinearLocator, FormatStrFormatter\n",
    "\n",
    "from qiskit import QuantumRegister, ClassicalRegister, QuantumCircuit, transpile, assemble\n",
    "from qiskit.providers.ibmq import least_busy\n",
    "from qiskit.tools.monitor import job_monitor\n",
    "from qiskit.visualization import plot_histogram"
   ]
  },
  {
   "cell_type": "code",
   "execution_count": null,
   "metadata": {},
   "outputs": [],
   "source": [
    "n = 4\n",
    "V = [120, 54, 28, 49]\n",
    "E = [(120,13,1.0),(54,6,1.0),(28,15,1.0),(49,9,1.0)] \n",
    "\n",
    "G = nx.Graph()\n",
    "G.add_nodes_from(V)\n",
    "G.add_weighted_edges_from(E)\n",
    "\n",
    "default_axes = plt.axes(frameon=True)\n",
    "pos          = nx.spring_layout(G)\n",
    "\n",
    "nx.draw_networkx(G, node_color=colors, node_size=600, alpha=1, ax=default_axes, pos=pos)"
   ]
  },
  {
   "cell_type": "code",
   "execution_count": null,
   "metadata": {},
   "outputs": [],
   "source": [
    "step_size   = 0.1;\n",
    "\n",
    "a_gamma         = np.arange(0, np.pi, step_size)\n",
    "a_beta          = np.arange(0, np.pi, step_size)\n",
    "a_gamma, a_beta = np.meshgrid(a_gamma,a_beta)\n",
    "\n",
    "F1 = 3-(np.sin(2*a_beta)**2*np.sin(2*a_gamma)**2-0.5*np.sin(4*a_beta)\n",
    "        *np.sin(4*a_gamma))*(1+np.cos(4*a_gamma)**2)\n",
    "\n",
    "result = np.where(F1 == np.amax(F1))\n",
    "a      = list(zip(result[0],result[1]))[0]\n",
    "\n",
    "gamma  = a[0]*step_size;\n",
    "beta   = a[1]*step_size;"
   ]
  },
  {
   "cell_type": "code",
   "execution_count": null,
   "metadata": {},
   "outputs": [],
   "source": [
    "QAOA = QuantumCircuit(len(V), len(V))\n",
    "\n",
    "QAOA.h(range(len(V)))\n",
    "\n",
    "for edge in E:\n",
    "    k = edge[0]\n",
    "    l = edge[1]\n",
    "    \n",
    "QAOA.rx(2*beta, range(len(V)))\n",
    "QAOA.measure(range(len(V)),range(len(V)))\n",
    "\n",
    "QAOA.draw('mpl')"
   ]
  },
  {
   "cell_type": "code",
   "execution_count": null,
   "metadata": {},
   "outputs": [],
   "source": [
    "shots = 1000\n",
    "\n",
    "TQAOA = transpile(QAOA, backend)\n",
    "qobj = assemble(TQAOA, shots=shots)\n",
    "QAOA_results = backend.run(qobj).result()\n",
    "\n",
    "plot_histogram(QAOA_results.get_counts(),figsize = (8,6),bar_labels = False)\n",
    "print(QAOA_results.get_counts())"
   ]
  },
  {
   "cell_type": "code",
   "execution_count": null,
   "metadata": {},
   "outputs": [],
   "source": [
    "import operator\n",
    "circ={}\n",
    "circ=QAOA_results.get_counts()\n",
    "\n",
    "a=max(circ.items(), key=operator.itemgetter(1))[0]\n",
    "b=max(circ.items(), key=operator.itemgetter(1))[1]\n",
    "print(a)\n",
    "print(b)"
   ]
  }
 ],
 "metadata": {
  "kernelspec": {
   "display_name": "Python 3",
   "language": "python",
   "name": "python3"
  },
  "language_info": {
   "codemirror_mode": {
    "name": "ipython",
    "version": 3
   },
   "file_extension": ".py",
   "mimetype": "text/x-python",
   "name": "python",
   "nbconvert_exporter": "python",
   "pygments_lexer": "ipython3",
   "version": "3.7.6"
  }
 },
 "nbformat": 4,
 "nbformat_minor": 4
}
